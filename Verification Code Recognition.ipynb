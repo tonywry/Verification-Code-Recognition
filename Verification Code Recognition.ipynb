{
 "cells": [
  {
   "cell_type": "code",
   "execution_count": 1,
   "metadata": {},
   "outputs": [],
   "source": [
    "import os\n",
    "from PIL import Image, ImageOps\n",
    "from os.path import join\n",
    "import numpy as np\n",
    "import pandas as pd"
   ]
  },
  {
   "cell_type": "code",
   "execution_count": 2,
   "metadata": {},
   "outputs": [],
   "source": [
    "img_path = \"6937.bmp\""
   ]
  },
  {
   "cell_type": "markdown",
   "metadata": {},
   "source": [
    "#### Transfer the img to B&W and to Binary metrix"
   ]
  },
  {
   "cell_type": "code",
   "execution_count": 3,
   "metadata": {},
   "outputs": [],
   "source": [
    "def get_bin_table(threshold=240):\n",
    "    table = []\n",
    "    for i in range(256):\n",
    "        if i < threshold:\n",
    "            table.append(0)\n",
    "        else:\n",
    "            table.append(1)\n",
    " \n",
    "    return table"
   ]
  },
  {
   "cell_type": "code",
   "execution_count": 4,
   "metadata": {
    "scrolled": false
   },
   "outputs": [],
   "source": [
    "def trf_to_gry(img_path):\n",
    "    image = Image.open(img_path)\n",
    "    imgry = image.convert('L')\n",
    "    table = get_bin_table()\n",
    "    out = imgry.point(table, '1')\n",
    "    return out"
   ]
  },
  {
   "cell_type": "code",
   "execution_count": 153,
   "metadata": {},
   "outputs": [],
   "source": [
    "out = trf_to_gry(img_path)\n",
    "out.save(\"BW\",\"bmp\")"
   ]
  },
  {
   "cell_type": "code",
   "execution_count": 6,
   "metadata": {},
   "outputs": [],
   "source": [
    "img_bin_mtx = np.array(out)*1"
   ]
  },
  {
   "cell_type": "code",
   "execution_count": 7,
   "metadata": {},
   "outputs": [
    {
     "data": {
      "text/plain": [
       "292"
      ]
     },
     "execution_count": 7,
     "metadata": {},
     "output_type": "execute_result"
    }
   ],
   "source": [
    "sum(sum(np.array(out)*1))"
   ]
  },
  {
   "cell_type": "markdown",
   "metadata": {},
   "source": [
    "#### Remove Noise Points"
   ]
  },
  {
   "cell_type": "code",
   "execution_count": 8,
   "metadata": {},
   "outputs": [],
   "source": [
    "def clean_noise(np_mtx, corner_thshd, side_thshd, mid_thshd):\n",
    "    mtx_height = np_mtx.shape[0]\n",
    "    mtx_width = np_mtx.shape[1]\n",
    "    \n",
    "    np_mtx_new = np.zeros([mtx_height,mtx_width], dtype=int) # init am empty array to output later\n",
    "    \n",
    "    for i in range(mtx_height):\n",
    "        for j in range(mtx_width):\n",
    "            ### Handle Corner points\n",
    "            if i == 0 and j == 0: # top left corner\n",
    "                neibr_sum = 4-(np_mtx[i,j] + np_mtx[i+1,j] + np_mtx[i,j+1] + np_mtx[i+1,j+1])\n",
    "                if neibr_sum > corner_thshd and np_mtx[i,j]==0:\n",
    "                    np_mtx_new[i,j] = 1\n",
    "                else:\n",
    "                    np_mtx_new[i,j] = 0\n",
    "\n",
    "            elif i == 0 and j == mtx_width-1: # top right corner:\n",
    "                neibr_sum = 4-(np_mtx[i,j] + np_mtx[i,j-1] + np_mtx[i+1,j] + np_mtx[i+1,j-1])\n",
    "                if neibr_sum > corner_thshd and np_mtx[i,j]==0:\n",
    "                    np_mtx_new[i,j] = 1\n",
    "                else:\n",
    "                    np_mtx_new[i,j] = 0\n",
    "            \n",
    "            elif i == mtx_height -1 and j == 0: # bottom left corner:\n",
    "                neibr_sum = 4-(np_mtx[i,j] + np_mtx[i,j+1] + np_mtx[i-1,j] + np_mtx[i-1,j+1])\n",
    "                if neibr_sum > corner_thshd and np_mtx[i,j]==0:\n",
    "                    np_mtx_new[i,j] = 1\n",
    "                else:\n",
    "                    np_mtx_new[i,j] = 0\n",
    "            \n",
    "            elif i == mtx_height -1 and j == mtx_width-1: # bottom right corner:\n",
    "                neibr_sum = 4-(np_mtx[i,j] + np_mtx[i,j-1] + np_mtx[i-1,j] + np_mtx[i-1,j-1])\n",
    "                if neibr_sum > corner_thshd and np_mtx[i,j]==0:\n",
    "                    np_mtx_new[i,j] = 1\n",
    "                else:\n",
    "                    np_mtx_new[i,j] = 0\n",
    "            \n",
    "            ### Handle Edge\n",
    "            elif i==0: # if top edge but not corner\n",
    "                neibr_sum = 6-(np_mtx[i,j] + np_mtx[i,j-1] + np_mtx[i,j+1] \\\n",
    "                               + np_mtx[i+1,j-1] + np_mtx[i+1,j] + np_mtx[i+1,j+1])\n",
    "                if neibr_sum > side_thshd and np_mtx[i,j]==0:\n",
    "                    np_mtx_new[i,j] = 1\n",
    "                else:\n",
    "                    np_mtx_new[i,j] = 0\n",
    "            \n",
    "            elif i==mtx_height -1: # if bottom edge but not corner\n",
    "                neibr_sum = 6-(np_mtx[i,j] + np_mtx[i,j-1] + np_mtx[i,j+1] \\\n",
    "                               + np_mtx[i-1,j-1] + np_mtx[i-1,j] + np_mtx[i-1,j+1])\n",
    "                if neibr_sum > side_thshd and np_mtx[i,j]==0:\n",
    "                    np_mtx_new[i,j] = 1\n",
    "                else:\n",
    "                    np_mtx_new[i,j] = 0\n",
    "            \n",
    "            elif j==0: # if left edge but not corner\n",
    "                neibr_sum = 6-(np_mtx[i,j] + np_mtx[i-1,j] + np_mtx[i+1,j] \\\n",
    "                               + np_mtx[i-1,j+1] + np_mtx[i,j+1] + np_mtx[i+1,j+1])\n",
    "                if neibr_sum > side_thshd and np_mtx[i,j]==0:\n",
    "                    np_mtx_new[i,j] = 1\n",
    "                else:\n",
    "                    np_mtx_new[i,j] = 0\n",
    "            \n",
    "            elif j==mtx_width-1: # if right edge but not corner\n",
    "                neibr_sum = 6-(np_mtx[i,j] + np_mtx[i-1,j] + np_mtx[i+1,j] \n",
    "                               + np_mtx[i-1,j-1] + np_mtx[i,j-1] + np_mtx[i+1,j-1])\n",
    "                if neibr_sum > side_thshd and np_mtx[i,j]==0:\n",
    "                    np_mtx_new[i,j] = 1\n",
    "                else:\n",
    "                    np_mtx_new[i,j] = 0\n",
    "            \n",
    "            \n",
    "            ### Handle middle points\n",
    "            else:\n",
    "                neibr_sum = 9-(np_mtx[i,j] \\\n",
    "                            + np_mtx[i-1,j-1] + np_mtx[i-1,j] + np_mtx[i-1,j+1] \\\n",
    "                            + np_mtx[i,j-1] + np_mtx[i,j+1] \\\n",
    "                            + np_mtx[i+1,j-1] + np_mtx[i+1,j] + np_mtx[i+1,j+1])\n",
    "                if neibr_sum > mid_thshd and np_mtx[i,j]==0:\n",
    "                    np_mtx_new[i,j] = 1\n",
    "                else:\n",
    "                    np_mtx_new[i,j] = 0\n",
    "            \n",
    "    return np_mtx_new"
   ]
  },
  {
   "cell_type": "code",
   "execution_count": 9,
   "metadata": {
    "scrolled": true
   },
   "outputs": [
    {
     "data": {
      "text/plain": [
       "94"
      ]
     },
     "execution_count": 9,
     "metadata": {},
     "output_type": "execute_result"
    }
   ],
   "source": [
    "img_bin_mtx_clean = clean_noise(img_bin_mtx, 2, 2, 2)\n",
    "sum(sum(img_bin_mtx_clean))"
   ]
  },
  {
   "cell_type": "code",
   "execution_count": 10,
   "metadata": {},
   "outputs": [
    {
     "data": {
      "image/png": "[encoded data removed]",
      "text/plain": [
       "<PIL.Image.Image image mode=1 size=40x10 at 0x118BB9E80>"
      ]
     },
     "execution_count": 10,
     "metadata": {},
     "output_type": "execute_result"
    }
   ],
   "source": [
    "Image.fromarray(img_bin_mtx_clean==0)"
   ]
  },
  {
   "cell_type": "code",
   "execution_count": null,
   "metadata": {},
   "outputs": [],
   "source": []
  },
  {
   "cell_type": "markdown",
   "metadata": {},
   "source": [
    "#### Cut the image into seperate Characters"
   ]
  },
  {
   "cell_type": "code",
   "execution_count": 11,
   "metadata": {},
   "outputs": [],
   "source": [
    "def digit_cut(cleaned_mtx):\n",
    "    digit_list = []\n",
    "    for digit_no in range(4):\n",
    "        start_index = digit_no * 10 + 2\n",
    "        end_index = digit_no * 10 + 8\n",
    "        digit_list.append(cleaned_mtx[:,start_index:end_index+1])\n",
    "    return digit_list"
   ]
  },
  {
   "cell_type": "code",
   "execution_count": 12,
   "metadata": {},
   "outputs": [],
   "source": [
    "digit_list = digit_cut(img_bin_mtx_clean)"
   ]
  },
  {
   "cell_type": "code",
   "execution_count": 13,
   "metadata": {
    "scrolled": true
   },
   "outputs": [
    {
     "data": {
      "image/png": "[encoded data removed]",
      "text/plain": [
       "<PIL.Image.Image image mode=1 size=7x10 at 0x118BB9DA0>"
      ]
     },
     "execution_count": 13,
     "metadata": {},
     "output_type": "execute_result"
    }
   ],
   "source": [
    "Image.fromarray(digit_list[0]==0)"
   ]
  },
  {
   "cell_type": "code",
   "execution_count": 14,
   "metadata": {},
   "outputs": [
    {
     "data": {
      "image/png": "[encoded data removed]",
      "text/plain": [
       "<PIL.Image.Image image mode=1 size=7x10 at 0x118BB9AC8>"
      ]
     },
     "execution_count": 14,
     "metadata": {},
     "output_type": "execute_result"
    }
   ],
   "source": [
    "Image.fromarray(digit_list[1]==0)"
   ]
  },
  {
   "cell_type": "code",
   "execution_count": 15,
   "metadata": {},
   "outputs": [
    {
     "data": {
      "image/png": "[encoded data removed]",
      "text/plain": [
       "<PIL.Image.Image image mode=1 size=7x10 at 0x118BB93C8>"
      ]
     },
     "execution_count": 15,
     "metadata": {},
     "output_type": "execute_result"
    }
   ],
   "source": [
    "Image.fromarray(digit_list[2]==0)"
   ]
  },
  {
   "cell_type": "code",
   "execution_count": 16,
   "metadata": {},
   "outputs": [
    {
     "data": {
      "image/png": "[encoded data removed]",
      "text/plain": [
       "<PIL.Image.Image image mode=1 size=7x10 at 0x118BB9BA8>"
      ]
     },
     "execution_count": 16,
     "metadata": {},
     "output_type": "execute_result"
    }
   ],
   "source": [
    "Image.fromarray(digit_list[3]==0)"
   ]
  },
  {
   "cell_type": "code",
   "execution_count": null,
   "metadata": {},
   "outputs": [],
   "source": []
  },
  {
   "cell_type": "markdown",
   "metadata": {},
   "source": [
    "#### Feature Engineering"
   ]
  },
  {
   "cell_type": "code",
   "execution_count": 127,
   "metadata": {},
   "outputs": [],
   "source": [
    "def trf_bin(dig_img_path):\n",
    "    dig_img = Image.open(dig_img_path)\n",
    "    dig_imgry = dig_img.convert('L')\n",
    "    table = get_bin_table()\n",
    "    dig_img_bw = dig_img.point(table, '1')\n",
    "    \n",
    "    dig_mtx = np.array(dig_img_bw)*1\n",
    "    return dig_mtx"
   ]
  },
  {
   "cell_type": "code",
   "execution_count": 139,
   "metadata": {
    "scrolled": false
   },
   "outputs": [
    {
     "data": {
      "image/png": "[encoded data removed]",
      "text/plain": [
       "<PIL.Image.Image image mode=1 size=6x10 at 0x1A1B5B8400>"
      ]
     },
     "execution_count": 139,
     "metadata": {},
     "output_type": "execute_result"
    }
   ],
   "source": [
    "Image.fromarray(trf_bin(\"Train_data/2/0001-0.jpg\")==1)"
   ]
  },
  {
   "cell_type": "code",
   "execution_count": 37,
   "metadata": {},
   "outputs": [],
   "source": [
    "def ext_feature_bkup(dig_img_path):\n",
    "    img_bin = trf_bin(dig_img_path)\n",
    "    col0 = sum(img_bin)[0]\n",
    "    col1 = sum(img_bin)[1]\n",
    "    col2 = sum(img_bin)[2]\n",
    "    col3 = sum(img_bin)[3]\n",
    "    col4 = sum(img_bin)[4]\n",
    "    col5 = sum(img_bin)[5]\n",
    "    row0 = sum(img_bin[0])\n",
    "    row1 = sum(img_bin[1])\n",
    "    row2 = sum(img_bin[2])\n",
    "    row3 = sum(img_bin[3])\n",
    "    row4 = sum(img_bin[4])\n",
    "    row5 = sum(img_bin[5])\n",
    "    row6 = sum(img_bin[6])\n",
    "    row7 = sum(img_bin[7])\n",
    "    row8 = sum(img_bin[8])\n",
    "    row9 = sum(img_bin[9])\n",
    "    return [col0, col1, col2, col3, col4, col5\n",
    "           ,row0, row1, row2, row3, row4, row5\n",
    "            ,row6,row7,row8,row9]"
   ]
  },
  {
   "cell_type": "code",
   "execution_count": 38,
   "metadata": {},
   "outputs": [
    {
     "data": {
      "text/plain": [
       "[6, 7, 7, 6, 6, 5, 2, 2, 4, 5, 5, 5, 5, 5, 4, 0]"
      ]
     },
     "execution_count": 38,
     "metadata": {},
     "output_type": "execute_result"
    }
   ],
   "source": [
    "ext_feature_bkup(\"Train_data/2/0001-0.jpg\")"
   ]
  },
  {
   "cell_type": "code",
   "execution_count": 30,
   "metadata": {},
   "outputs": [],
   "source": [
    "def ext_feature(img_bin):\n",
    "    col0 = sum(img_bin)[0]\n",
    "    col1 = sum(img_bin)[1]\n",
    "    col2 = sum(img_bin)[2]\n",
    "    col3 = sum(img_bin)[3]\n",
    "    col4 = sum(img_bin)[4]\n",
    "    col5 = sum(img_bin)[5]\n",
    "    row0 = sum(img_bin[0])\n",
    "    row1 = sum(img_bin[1])\n",
    "    row2 = sum(img_bin[2])\n",
    "    row3 = sum(img_bin[3])\n",
    "    row4 = sum(img_bin[4])\n",
    "    row5 = sum(img_bin[5])\n",
    "    row6 = sum(img_bin[6])\n",
    "    row7 = sum(img_bin[7])\n",
    "    row8 = sum(img_bin[8])\n",
    "    row9 = sum(img_bin[9])\n",
    "    return [col0, col1, col2, col3, col4, col5\n",
    "           ,row0, row1, row2, row3, row4, row5\n",
    "            ,row6,row7,row8,row9]"
   ]
  },
  {
   "cell_type": "code",
   "execution_count": null,
   "metadata": {},
   "outputs": [],
   "source": []
  },
  {
   "cell_type": "code",
   "execution_count": 39,
   "metadata": {},
   "outputs": [],
   "source": [
    "def create_train_data(dig_folder_path):\n",
    "    df = pd.DataFrame(columns=['col0','col1','col2','col3','col4','col5'\n",
    "                              ,'row0','row1','row2','row3','row4','row5'\n",
    "                              ,'row6','row7','row8','row9'])\n",
    "    img_list = os.listdir(dig_folder_path)\n",
    "    for i in range(len(img_list)):\n",
    "        img = img_list[i] \n",
    "        img_path = dig_folder_path+img\n",
    "        df.loc[i] = ext_feature_bkup(img_path)\n",
    "    return df"
   ]
  },
  {
   "cell_type": "code",
   "execution_count": 40,
   "metadata": {},
   "outputs": [],
   "source": [
    "train_data = pd.DataFrame(columns=['col0','col1','col2','col3','col4','col5'\n",
    "                              ,'row0','row1','row2','row3','row4','row5'\n",
    "                              ,'row6','row7','row8','row9','digit'])\n",
    "for digit in range(10):\n",
    "    df_tmp = create_train_data(\"Train_data/\"+str(digit)+\"/\")\n",
    "    df_tmp[\"digit\"] = str(digit)\n",
    "    train_data = train_data.append(df_tmp)"
   ]
  },
  {
   "cell_type": "code",
   "execution_count": 41,
   "metadata": {},
   "outputs": [
    {
     "data": {
      "text/html": [
       "<div>\n",
       "<style scoped>\n",
       "    .dataframe tbody tr th:only-of-type {\n",
       "        vertical-align: middle;\n",
       "    }\n",
       "\n",
       "    .dataframe tbody tr th {\n",
       "        vertical-align: top;\n",
       "    }\n",
       "\n",
       "    .dataframe thead th {\n",
       "        text-align: right;\n",
       "    }\n",
       "</style>\n",
       "<table border=\"1\" class=\"dataframe\">\n",
       "  <thead>\n",
       "    <tr style=\"text-align: right;\">\n",
       "      <th></th>\n",
       "      <th>col0</th>\n",
       "      <th>col1</th>\n",
       "      <th>col2</th>\n",
       "      <th>col3</th>\n",
       "      <th>col4</th>\n",
       "      <th>col5</th>\n",
       "      <th>row0</th>\n",
       "      <th>row1</th>\n",
       "      <th>row2</th>\n",
       "      <th>row3</th>\n",
       "      <th>row4</th>\n",
       "      <th>row5</th>\n",
       "      <th>row6</th>\n",
       "      <th>row7</th>\n",
       "      <th>row8</th>\n",
       "      <th>row9</th>\n",
       "      <th>digit</th>\n",
       "    </tr>\n",
       "  </thead>\n",
       "  <tbody>\n",
       "    <tr>\n",
       "      <td>0</td>\n",
       "      <td>2</td>\n",
       "      <td>7</td>\n",
       "      <td>4</td>\n",
       "      <td>3</td>\n",
       "      <td>8</td>\n",
       "      <td>2</td>\n",
       "      <td>2</td>\n",
       "      <td>4</td>\n",
       "      <td>4</td>\n",
       "      <td>1</td>\n",
       "      <td>2</td>\n",
       "      <td>2</td>\n",
       "      <td>2</td>\n",
       "      <td>3</td>\n",
       "      <td>4</td>\n",
       "      <td>2</td>\n",
       "      <td>0</td>\n",
       "    </tr>\n",
       "    <tr>\n",
       "      <td>1</td>\n",
       "      <td>1</td>\n",
       "      <td>7</td>\n",
       "      <td>3</td>\n",
       "      <td>3</td>\n",
       "      <td>7</td>\n",
       "      <td>2</td>\n",
       "      <td>2</td>\n",
       "      <td>3</td>\n",
       "      <td>3</td>\n",
       "      <td>2</td>\n",
       "      <td>2</td>\n",
       "      <td>2</td>\n",
       "      <td>1</td>\n",
       "      <td>3</td>\n",
       "      <td>4</td>\n",
       "      <td>1</td>\n",
       "      <td>0</td>\n",
       "    </tr>\n",
       "    <tr>\n",
       "      <td>2</td>\n",
       "      <td>2</td>\n",
       "      <td>7</td>\n",
       "      <td>4</td>\n",
       "      <td>4</td>\n",
       "      <td>8</td>\n",
       "      <td>2</td>\n",
       "      <td>2</td>\n",
       "      <td>4</td>\n",
       "      <td>4</td>\n",
       "      <td>1</td>\n",
       "      <td>2</td>\n",
       "      <td>2</td>\n",
       "      <td>2</td>\n",
       "      <td>4</td>\n",
       "      <td>4</td>\n",
       "      <td>2</td>\n",
       "      <td>0</td>\n",
       "    </tr>\n",
       "    <tr>\n",
       "      <td>3</td>\n",
       "      <td>2</td>\n",
       "      <td>8</td>\n",
       "      <td>4</td>\n",
       "      <td>4</td>\n",
       "      <td>8</td>\n",
       "      <td>2</td>\n",
       "      <td>2</td>\n",
       "      <td>4</td>\n",
       "      <td>4</td>\n",
       "      <td>2</td>\n",
       "      <td>2</td>\n",
       "      <td>2</td>\n",
       "      <td>2</td>\n",
       "      <td>4</td>\n",
       "      <td>4</td>\n",
       "      <td>2</td>\n",
       "      <td>0</td>\n",
       "    </tr>\n",
       "    <tr>\n",
       "      <td>4</td>\n",
       "      <td>2</td>\n",
       "      <td>8</td>\n",
       "      <td>4</td>\n",
       "      <td>4</td>\n",
       "      <td>7</td>\n",
       "      <td>2</td>\n",
       "      <td>2</td>\n",
       "      <td>4</td>\n",
       "      <td>4</td>\n",
       "      <td>2</td>\n",
       "      <td>1</td>\n",
       "      <td>2</td>\n",
       "      <td>2</td>\n",
       "      <td>4</td>\n",
       "      <td>4</td>\n",
       "      <td>2</td>\n",
       "      <td>0</td>\n",
       "    </tr>\n",
       "    <tr>\n",
       "      <td>...</td>\n",
       "      <td>...</td>\n",
       "      <td>...</td>\n",
       "      <td>...</td>\n",
       "      <td>...</td>\n",
       "      <td>...</td>\n",
       "      <td>...</td>\n",
       "      <td>...</td>\n",
       "      <td>...</td>\n",
       "      <td>...</td>\n",
       "      <td>...</td>\n",
       "      <td>...</td>\n",
       "      <td>...</td>\n",
       "      <td>...</td>\n",
       "      <td>...</td>\n",
       "      <td>...</td>\n",
       "      <td>...</td>\n",
       "      <td>...</td>\n",
       "    </tr>\n",
       "    <tr>\n",
       "      <td>155</td>\n",
       "      <td>6</td>\n",
       "      <td>7</td>\n",
       "      <td>7</td>\n",
       "      <td>7</td>\n",
       "      <td>7</td>\n",
       "      <td>4</td>\n",
       "      <td>3</td>\n",
       "      <td>4</td>\n",
       "      <td>4</td>\n",
       "      <td>4</td>\n",
       "      <td>3</td>\n",
       "      <td>2</td>\n",
       "      <td>5</td>\n",
       "      <td>5</td>\n",
       "      <td>5</td>\n",
       "      <td>3</td>\n",
       "      <td>9</td>\n",
       "    </tr>\n",
       "    <tr>\n",
       "      <td>156</td>\n",
       "      <td>6</td>\n",
       "      <td>7</td>\n",
       "      <td>7</td>\n",
       "      <td>7</td>\n",
       "      <td>6</td>\n",
       "      <td>4</td>\n",
       "      <td>3</td>\n",
       "      <td>4</td>\n",
       "      <td>4</td>\n",
       "      <td>4</td>\n",
       "      <td>3</td>\n",
       "      <td>1</td>\n",
       "      <td>5</td>\n",
       "      <td>5</td>\n",
       "      <td>5</td>\n",
       "      <td>3</td>\n",
       "      <td>9</td>\n",
       "    </tr>\n",
       "    <tr>\n",
       "      <td>157</td>\n",
       "      <td>6</td>\n",
       "      <td>6</td>\n",
       "      <td>6</td>\n",
       "      <td>6</td>\n",
       "      <td>7</td>\n",
       "      <td>3</td>\n",
       "      <td>3</td>\n",
       "      <td>3</td>\n",
       "      <td>4</td>\n",
       "      <td>4</td>\n",
       "      <td>3</td>\n",
       "      <td>2</td>\n",
       "      <td>3</td>\n",
       "      <td>4</td>\n",
       "      <td>5</td>\n",
       "      <td>3</td>\n",
       "      <td>9</td>\n",
       "    </tr>\n",
       "    <tr>\n",
       "      <td>158</td>\n",
       "      <td>5</td>\n",
       "      <td>6</td>\n",
       "      <td>7</td>\n",
       "      <td>7</td>\n",
       "      <td>6</td>\n",
       "      <td>4</td>\n",
       "      <td>3</td>\n",
       "      <td>4</td>\n",
       "      <td>4</td>\n",
       "      <td>4</td>\n",
       "      <td>2</td>\n",
       "      <td>2</td>\n",
       "      <td>4</td>\n",
       "      <td>4</td>\n",
       "      <td>5</td>\n",
       "      <td>3</td>\n",
       "      <td>9</td>\n",
       "    </tr>\n",
       "    <tr>\n",
       "      <td>159</td>\n",
       "      <td>6</td>\n",
       "      <td>7</td>\n",
       "      <td>7</td>\n",
       "      <td>7</td>\n",
       "      <td>6</td>\n",
       "      <td>3</td>\n",
       "      <td>3</td>\n",
       "      <td>3</td>\n",
       "      <td>3</td>\n",
       "      <td>4</td>\n",
       "      <td>3</td>\n",
       "      <td>2</td>\n",
       "      <td>5</td>\n",
       "      <td>5</td>\n",
       "      <td>5</td>\n",
       "      <td>3</td>\n",
       "      <td>9</td>\n",
       "    </tr>\n",
       "  </tbody>\n",
       "</table>\n",
       "<p>1152 rows × 17 columns</p>\n",
       "</div>"
      ],
      "text/plain": [
       "    col0 col1 col2 col3 col4 col5 row0 row1 row2 row3 row4 row5 row6 row7  \\\n",
       "0      2    7    4    3    8    2    2    4    4    1    2    2    2    3   \n",
       "1      1    7    3    3    7    2    2    3    3    2    2    2    1    3   \n",
       "2      2    7    4    4    8    2    2    4    4    1    2    2    2    4   \n",
       "3      2    8    4    4    8    2    2    4    4    2    2    2    2    4   \n",
       "4      2    8    4    4    7    2    2    4    4    2    1    2    2    4   \n",
       "..   ...  ...  ...  ...  ...  ...  ...  ...  ...  ...  ...  ...  ...  ...   \n",
       "155    6    7    7    7    7    4    3    4    4    4    3    2    5    5   \n",
       "156    6    7    7    7    6    4    3    4    4    4    3    1    5    5   \n",
       "157    6    6    6    6    7    3    3    3    4    4    3    2    3    4   \n",
       "158    5    6    7    7    6    4    3    4    4    4    2    2    4    4   \n",
       "159    6    7    7    7    6    3    3    3    3    4    3    2    5    5   \n",
       "\n",
       "    row8 row9 digit  \n",
       "0      4    2     0  \n",
       "1      4    1     0  \n",
       "2      4    2     0  \n",
       "3      4    2     0  \n",
       "4      4    2     0  \n",
       "..   ...  ...   ...  \n",
       "155    5    3     9  \n",
       "156    5    3     9  \n",
       "157    5    3     9  \n",
       "158    5    3     9  \n",
       "159    5    3     9  \n",
       "\n",
       "[1152 rows x 17 columns]"
      ]
     },
     "execution_count": 41,
     "metadata": {},
     "output_type": "execute_result"
    }
   ],
   "source": [
    "train_data"
   ]
  },
  {
   "cell_type": "code",
   "execution_count": null,
   "metadata": {},
   "outputs": [],
   "source": []
  },
  {
   "cell_type": "markdown",
   "metadata": {},
   "source": [
    "#### Model Traning by Decision Tree"
   ]
  },
  {
   "cell_type": "code",
   "execution_count": 104,
   "metadata": {},
   "outputs": [],
   "source": [
    "X = train_data.iloc[:,0:-1]\n",
    "y = train_data.iloc[:,-1]"
   ]
  },
  {
   "cell_type": "code",
   "execution_count": 105,
   "metadata": {},
   "outputs": [],
   "source": [
    "from sklearn.model_selection import train_test_split\n",
    "X_train, X_test, y_train, y_test = train_test_split(X, y, test_size = 0.1)"
   ]
  },
  {
   "cell_type": "code",
   "execution_count": 106,
   "metadata": {},
   "outputs": [
    {
     "data": {
      "text/plain": [
       "DecisionTreeClassifier(class_weight=None, criterion='gini', max_depth=10,\n",
       "                       max_features=None, max_leaf_nodes=None,\n",
       "                       min_impurity_decrease=0.0, min_impurity_split=None,\n",
       "                       min_samples_leaf=1, min_samples_split=2,\n",
       "                       min_weight_fraction_leaf=0.0, presort=False,\n",
       "                       random_state=None, splitter='best')"
      ]
     },
     "execution_count": 106,
     "metadata": {},
     "output_type": "execute_result"
    }
   ],
   "source": [
    "from sklearn.tree import DecisionTreeClassifier\n",
    "dt_classifier = DecisionTreeClassifier(max_depth = 10)\n",
    "dt_classifier.fit(X_train, y_train)"
   ]
  },
  {
   "cell_type": "code",
   "execution_count": 107,
   "metadata": {},
   "outputs": [
    {
     "data": {
      "text/plain": [
       "array([[ 9,  0,  0,  0,  0,  0,  0,  0,  0,  0],\n",
       "       [ 0, 11,  0,  0,  0,  0,  0,  0,  0,  0],\n",
       "       [ 0,  0, 13,  0,  0,  0,  0,  0,  0,  0],\n",
       "       [ 0,  0,  0, 14,  0,  0,  0,  0,  0,  0],\n",
       "       [ 0,  0,  0,  0, 14,  0,  0,  0,  0,  0],\n",
       "       [ 0,  0,  0,  0,  0,  5,  0,  0,  0,  0],\n",
       "       [ 0,  0,  0,  0,  1,  0,  8,  0,  0,  0],\n",
       "       [ 0,  0,  0,  0,  0,  0,  0, 12,  0,  0],\n",
       "       [ 0,  0,  0,  0,  0,  0,  0,  0, 22,  0],\n",
       "       [ 0,  0,  0,  0,  0,  0,  0,  0,  0,  7]])"
      ]
     },
     "execution_count": 107,
     "metadata": {},
     "output_type": "execute_result"
    }
   ],
   "source": [
    "pred = dt_classifier.predict(X_test)\n",
    "from sklearn.metrics import confusion_matrix\n",
    "confusion_matrix(pred, y_test)"
   ]
  },
  {
   "cell_type": "markdown",
   "metadata": {},
   "source": [
    "#### Model Traning by SVM"
   ]
  },
  {
   "cell_type": "code",
   "execution_count": 108,
   "metadata": {},
   "outputs": [
    {
     "name": "stderr",
     "output_type": "stream",
     "text": [
      "/Users/TonyWang/anaconda3/envs/cv/lib/python3.6/site-packages/sklearn/svm/base.py:193: FutureWarning: The default value of gamma will change from 'auto' to 'scale' in version 0.22 to account better for unscaled features. Set gamma explicitly to 'auto' or 'scale' to avoid this warning.\n",
      "  \"avoid this warning.\", FutureWarning)\n"
     ]
    },
    {
     "data": {
      "text/plain": [
       "SVC(C=1.0, cache_size=200, class_weight=None, coef0=0.0,\n",
       "    decision_function_shape='ovr', degree=3, gamma='auto_deprecated',\n",
       "    kernel='rbf', max_iter=-1, probability=False, random_state=None,\n",
       "    shrinking=True, tol=0.001, verbose=False)"
      ]
     },
     "execution_count": 108,
     "metadata": {},
     "output_type": "execute_result"
    }
   ],
   "source": [
    "from sklearn.svm import SVC\n",
    "svc_classifier = SVC()\n",
    "svc_classifier.fit(X_train, y_train)"
   ]
  },
  {
   "cell_type": "code",
   "execution_count": 155,
   "metadata": {},
   "outputs": [
    {
     "data": {
      "text/plain": [
       "array([[ 9,  0,  0,  0,  0,  0,  0,  0,  0,  0],\n",
       "       [ 0, 11,  0,  0,  0,  0,  0,  0,  0,  0],\n",
       "       [ 0,  0, 13,  0,  0,  0,  0,  0,  0,  0],\n",
       "       [ 0,  0,  0, 14,  0,  0,  0,  0,  0,  0],\n",
       "       [ 0,  0,  0,  0, 15,  0,  0,  0,  0,  0],\n",
       "       [ 0,  0,  0,  0,  0,  4,  0,  0,  0,  0],\n",
       "       [ 0,  0,  0,  0,  0,  0,  8,  0,  0,  0],\n",
       "       [ 0,  0,  0,  0,  0,  0,  0, 12,  0,  0],\n",
       "       [ 0,  0,  0,  0,  0,  1,  0,  0, 22,  0],\n",
       "       [ 0,  0,  0,  0,  0,  0,  0,  0,  0,  7]])"
      ]
     },
     "execution_count": 155,
     "metadata": {},
     "output_type": "execute_result"
    }
   ],
   "source": [
    "pred = svc_classifier.predict(X_test)\n",
    "from sklearn.metrics import confusion_matrix, accuracy_score\n",
    "confusion_matrix(pred, y_test)"
   ]
  },
  {
   "cell_type": "code",
   "execution_count": 156,
   "metadata": {},
   "outputs": [
    {
     "data": {
      "text/plain": [
       "0.9913793103448276"
      ]
     },
     "execution_count": 156,
     "metadata": {},
     "output_type": "execute_result"
    }
   ],
   "source": [
    "accuracy_score(pred, y_test)"
   ]
  },
  {
   "cell_type": "code",
   "execution_count": null,
   "metadata": {},
   "outputs": [],
   "source": []
  },
  {
   "cell_type": "markdown",
   "metadata": {},
   "source": [
    "#### Build Recognition Pipeline"
   ]
  },
  {
   "cell_type": "code",
   "execution_count": 151,
   "metadata": {},
   "outputs": [],
   "source": [
    "def main_code_recog(img_path):\n",
    "    img_gry = trf_to_gry(img_path) # transfer the image to B&W mode\n",
    "    img_bin_mtx = np.array(img_gry)*1 # transfer the B&W img to matrix with 0&1\n",
    "    img_bin_mtx_clean = 1- clean_noise(img_bin_mtx, 2, 2, 2) # noise points cleansing\n",
    "    digit_list = digit_cut(img_bin_mtx_clean) # cut the image to seperate digits\n",
    "    #init the test data\n",
    "    feature_df = pd.DataFrame(columns=['col0','col1','col2','col3','col4','col5'\n",
    "                              ,'row0','row1','row2','row3','row4','row5'\n",
    "                              ,'row6','row7','row8','row9'])\n",
    "    for i in range(len(digit_list)):\n",
    "        digit_features = ext_feature(digit_list[i])\n",
    "        feature_df.loc[i] = digit_features\n",
    "    \n",
    "    # pass the feature to the classifier\n",
    "    pred = svc_classifier.predict(feature_df)\n",
    "    return pred"
   ]
  },
  {
   "cell_type": "code",
   "execution_count": 152,
   "metadata": {},
   "outputs": [
    {
     "data": {
      "text/plain": [
       "array(['6', '9', '3', '7'], dtype=object)"
      ]
     },
     "execution_count": 152,
     "metadata": {},
     "output_type": "execute_result"
    }
   ],
   "source": [
    "main_code_recog(\"6937.bmp\")"
   ]
  },
  {
   "cell_type": "code",
   "execution_count": null,
   "metadata": {},
   "outputs": [],
   "source": []
  },
  {
   "cell_type": "code",
   "execution_count": null,
   "metadata": {},
   "outputs": [],
   "source": []
  }
 ],
 "metadata": {
  "kernelspec": {
   "display_name": "Python 3",
   "language": "python",
   "name": "python3"
  },
  "language_info": {
   "codemirror_mode": {
    "name": "ipython",
    "version": 3
   },
   "file_extension": ".py",
   "mimetype": "text/x-python",
   "name": "python",
   "nbconvert_exporter": "python",
   "pygments_lexer": "ipython3",
   "version": "3.6.9"
  }
 },
 "nbformat": 4,
 "nbformat_minor": 2
}
